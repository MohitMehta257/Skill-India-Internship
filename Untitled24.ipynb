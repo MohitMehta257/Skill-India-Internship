{
 "cells": [
  {
   "cell_type": "code",
   "execution_count": 2,
   "metadata": {},
   "outputs": [],
   "source": [
    "records= {16001:{\"name\":\"Milk\",\"Expiry Date\":\"20/09/2021\",\"Price\":25,\"Quantity\":20,\"Company\":\"Sudha Milk\"},\n",
    "          16002:{\"name\":\"Bread\",\"Expiry Date\":\"22/09/2021\",\"Price\":20,\"Quantity\":10,\"Company\":\"Moreish\"},\n",
    "          16003:{\"name\":\"Wheat\",\"Expiry Date\":\"20/09/2022\",\"Price\":325,\"Quantity\":20,\"Company\":\"Aashirvaad\"},\n",
    "          16004:{\"name\":\"Rice\",\"Expiry Date\":\"30/09/2022\",\"Price\":600,\"Quantity\":20,\"Company\":\"India Gate\"},\n",
    "          16005:{\"name\":\"Shampoo\",\"Expiry Date\":\"20/09/2022\",\"Price\":125,\"Quantity\":10,\"Company\":\"Pantene\"},\n",
    "          16006:{\"name\":\"Toothpaste\",\"Expiry Date\":\"20/10/2022\",\"Price\":30,\"Quantity\":30,\"Company\":\"Colgate\"},\n",
    "          16007:{\"name\":\"Face Cream\",\"Expiry Date\":\"20/04/2025\",\"Price\":25,\"Quantity\":60,\"Company\":\"Nivea\"},\n",
    "          16008:{\"name\":\"Hair Oil\",\"Expiry Date\":\"20/09/2024\",\"Price\":25,\"Quantity\":80,\"Company\":\"Bajaj Almond\"},\n",
    "          16009:{\"name\":\"Face Wash\",\"Expiry Date\":\"10/09/2021\",\"Price\":55,\"Quantity\":40,\"Company\":\"Garnier\"},\n",
    "          16010:{\"name\":\"Head Balm\",\"Expiry Date\":\"20/01/2022\",\"Price\":30,\"Quantity\":50,\"Company\":\"Zandu Balm\"},\n",
    "          16011:{\"name\":\"Mouth Wash\",\"Expiry Date\":\"12/11/2021\",\"Price\":125,\"Quantity\":20,\"Company\":\"Listerine\"},\n",
    "          16012:{\"name\":\"Biscuits\",\"Expiry Date\":\"12/06/2022\",\"Price\":25,\"Quantity\":20,\"Company\":\"Marie Gold\"},\n",
    "          16013:{\"name\":\"Tea\",\"Expiry Date\":\"20/04/2021\",\"Price\":35,\"Quantity\":40,\"Company\":\"TATA Tea\"},\n",
    "          16014:{\"name\":\"Conditioner\",\"Expiry Date\":\"10/1/2023\",\"Price\":150,\"Quantity\":20,\"Company\":\"Garnier\"},\n",
    "          16015:{\"name\":\"Hair Gel\",\"Expiry Date\":\"20/09/2025\",\"Price\":50,\"Quantity\":30,\"Company\":\"Set Wet\"},\n",
    "          16016:{\"name\":\"Face Powder\",\"Expiry Date\":\"15/09/2023\",\"Price\":125,\"Quantity\":25,\"Company\":\"Nivea\"},\n",
    "          16017:{\"name\":\"Cotton Bud\",\"Expiry Date\":\"20/05/2026\",\"Price\":35,\"Quantity\":20,\"Company\":\"Nivea\"},\n",
    "          16018:{\"name\":\"Lip Balm\",\"Expiry Date\":\"15/05/2025\",\"Price\":20,\"Quantity\":20,\"Company\":\"Beardo\"},\n",
    "          16019:{\"name\":\"Deo\",\"Expiry Date\":\"05/03/2025\",\"Price\":200,\"Quantity\":50,\"Company\":\"Denver\"},\n",
    "          16020:{\"name\":\"Perfume\",\"Expiry Date\":\"15/05/2025\",\"Price\":210,\"Quantity\":10,\"Company\":\"Set Wet\"},\n",
    "}"
   ]
  },
  {
   "cell_type": "code",
   "execution_count": 3,
   "metadata": {},
   "outputs": [],
   "source": [
    "import json"
   ]
  },
  {
   "cell_type": "code",
   "execution_count": 4,
   "metadata": {},
   "outputs": [],
   "source": [
    "js=json.dumps(records)"
   ]
  },
  {
   "cell_type": "code",
   "execution_count": 5,
   "metadata": {},
   "outputs": [
    {
     "data": {
      "text/plain": [
       "'{\"16001\": {\"name\": \"Milk\", \"Expiry Date\": \"20/09/2021\", \"Price\": 25, \"Quantity\": 20, \"Company\": \"Sudha Milk\"}, \"16002\": {\"name\": \"Bread\", \"Expiry Date\": \"22/09/2021\", \"Price\": 20, \"Quantity\": 10, \"Company\": \"Moreish\"}, \"16003\": {\"name\": \"Wheat\", \"Expiry Date\": \"20/09/2022\", \"Price\": 325, \"Quantity\": 20, \"Company\": \"Aashirvaad\"}, \"16004\": {\"name\": \"Rice\", \"Expiry Date\": \"30/09/2022\", \"Price\": 600, \"Quantity\": 20, \"Company\": \"India Gate\"}, \"16005\": {\"name\": \"Shampoo\", \"Expiry Date\": \"20/09/2022\", \"Price\": 125, \"Quantity\": 10, \"Company\": \"Pantene\"}, \"16006\": {\"name\": \"Toothpaste\", \"Expiry Date\": \"20/10/2022\", \"Price\": 30, \"Quantity\": 30, \"Company\": \"Colgate\"}, \"16007\": {\"name\": \"Face Cream\", \"Expiry Date\": \"20/04/2025\", \"Price\": 25, \"Quantity\": 60, \"Company\": \"Nivea\"}, \"16008\": {\"name\": \"Hair Oil\", \"Expiry Date\": \"20/09/2024\", \"Price\": 25, \"Quantity\": 80, \"Company\": \"Bajaj Almond\"}, \"16009\": {\"name\": \"Face Wash\", \"Expiry Date\": \"10/09/2021\", \"Price\": 55, \"Quantity\": 40, \"Company\": \"Garnier\"}, \"16010\": {\"name\": \"Head Balm\", \"Expiry Date\": \"20/01/2022\", \"Price\": 30, \"Quantity\": 50, \"Company\": \"Zandu Balm\"}, \"16011\": {\"name\": \"Mouth Wash\", \"Expiry Date\": \"12/11/2021\", \"Price\": 125, \"Quantity\": 20, \"Company\": \"Listerine\"}, \"16012\": {\"name\": \"Biscuits\", \"Expiry Date\": \"12/06/2022\", \"Price\": 25, \"Quantity\": 20, \"Company\": \"Marie Gold\"}, \"16013\": {\"name\": \"Tea\", \"Expiry Date\": \"20/04/2021\", \"Price\": 35, \"Quantity\": 40, \"Company\": \"TATA Tea\"}, \"16014\": {\"name\": \"Conditioner\", \"Expiry Date\": \"10/1/2023\", \"Price\": 150, \"Quantity\": 20, \"Company\": \"Garnier\"}, \"16015\": {\"name\": \"Hair Gel\", \"Expiry Date\": \"20/09/2025\", \"Price\": 50, \"Quantity\": 30, \"Company\": \"Set Wet\"}, \"16016\": {\"name\": \"Face Powder\", \"Expiry Date\": \"15/09/2023\", \"Price\": 125, \"Quantity\": 25, \"Company\": \"Nivea\"}, \"16017\": {\"name\": \"Cotton Bud\", \"Expiry Date\": \"20/05/2026\", \"Price\": 35, \"Quantity\": 20, \"Company\": \"Nivea\"}, \"16018\": {\"name\": \"Lip Balm\", \"Expiry Date\": \"15/05/2025\", \"Price\": 20, \"Quantity\": 20, \"Company\": \"Beardo\"}, \"16019\": {\"name\": \"Deo\", \"Expiry Date\": \"05/03/2025\", \"Price\": 200, \"Quantity\": 50, \"Company\": \"Denver\"}, \"16020\": {\"name\": \"Perfume\", \"Expiry Date\": \"15/05/2025\", \"Price\": 210, \"Quantity\": 10, \"Company\": \"Set Wet\"}}'"
      ]
     },
     "execution_count": 5,
     "metadata": {},
     "output_type": "execute_result"
    }
   ],
   "source": [
    "js"
   ]
  },
  {
   "cell_type": "code",
   "execution_count": 6,
   "metadata": {},
   "outputs": [],
   "source": [
    "fd=open('record.json','w')\n",
    "fd.write(js)\n",
    "fd.close()\n"
   ]
  },
  {
   "cell_type": "code",
   "execution_count": 7,
   "metadata": {},
   "outputs": [
    {
     "data": {
      "text/plain": [
       "<_io.TextIOWrapper name='record.json' mode='w' encoding='cp1252'>"
      ]
     },
     "execution_count": 7,
     "metadata": {},
     "output_type": "execute_result"
    }
   ],
   "source": [
    "fd"
   ]
  },
  {
   "cell_type": "code",
   "execution_count": 11,
   "metadata": {},
   "outputs": [],
   "source": [
    "fd=open('record.json','r')\n",
    "txt=fd.read()\n",
    "fd.close()"
   ]
  },
  {
   "cell_type": "code",
   "execution_count": 12,
   "metadata": {},
   "outputs": [
    {
     "data": {
      "text/plain": [
       "'{\"16001\": {\"name\": \"Milk\", \"Expiry Date\": \"20/09/2021\", \"Price\": 25, \"Quantity\": 20, \"Company\": \"Sudha Milk\"}, \"16002\": {\"name\": \"Bread\", \"Expiry Date\": \"22/09/2021\", \"Price\": 20, \"Quantity\": 10, \"Company\": \"Moreish\"}, \"16003\": {\"name\": \"Wheat\", \"Expiry Date\": \"20/09/2022\", \"Price\": 325, \"Quantity\": 20, \"Company\": \"Aashirvaad\"}, \"16004\": {\"name\": \"Rice\", \"Expiry Date\": \"30/09/2022\", \"Price\": 600, \"Quantity\": 20, \"Company\": \"India Gate\"}, \"16005\": {\"name\": \"Shampoo\", \"Expiry Date\": \"20/09/2022\", \"Price\": 125, \"Quantity\": 10, \"Company\": \"Pantene\"}, \"16006\": {\"name\": \"Toothpaste\", \"Expiry Date\": \"20/10/2022\", \"Price\": 30, \"Quantity\": 30, \"Company\": \"Colgate\"}, \"16007\": {\"name\": \"Face Cream\", \"Expiry Date\": \"20/04/2025\", \"Price\": 25, \"Quantity\": 60, \"Company\": \"Nivea\"}, \"16008\": {\"name\": \"Hair Oil\", \"Expiry Date\": \"20/09/2024\", \"Price\": 25, \"Quantity\": 80, \"Company\": \"Bajaj Almond\"}, \"16009\": {\"name\": \"Face Wash\", \"Expiry Date\": \"10/09/2021\", \"Price\": 55, \"Quantity\": 40, \"Company\": \"Garnier\"}, \"16010\": {\"name\": \"Head Balm\", \"Expiry Date\": \"20/01/2022\", \"Price\": 30, \"Quantity\": 50, \"Company\": \"Zandu Balm\"}, \"16011\": {\"name\": \"Mouth Wash\", \"Expiry Date\": \"12/11/2021\", \"Price\": 125, \"Quantity\": 20, \"Company\": \"Listerine\"}, \"16012\": {\"name\": \"Biscuits\", \"Expiry Date\": \"12/06/2022\", \"Price\": 25, \"Quantity\": 20, \"Company\": \"Marie Gold\"}, \"16013\": {\"name\": \"Tea\", \"Expiry Date\": \"20/04/2021\", \"Price\": 35, \"Quantity\": 40, \"Company\": \"TATA Tea\"}, \"16014\": {\"name\": \"Conditioner\", \"Expiry Date\": \"10/1/2023\", \"Price\": 150, \"Quantity\": 20, \"Company\": \"Garnier\"}, \"16015\": {\"name\": \"Hair Gel\", \"Expiry Date\": \"20/09/2025\", \"Price\": 50, \"Quantity\": 30, \"Company\": \"Set Wet\"}, \"16016\": {\"name\": \"Face Powder\", \"Expiry Date\": \"15/09/2023\", \"Price\": 125, \"Quantity\": 25, \"Company\": \"Nivea\"}, \"16017\": {\"name\": \"Cotton Bud\", \"Expiry Date\": \"20/05/2026\", \"Price\": 35, \"Quantity\": 20, \"Company\": \"Nivea\"}, \"16018\": {\"name\": \"Lip Balm\", \"Expiry Date\": \"15/05/2025\", \"Price\": 20, \"Quantity\": 20, \"Company\": \"Beardo\"}, \"16019\": {\"name\": \"Deo\", \"Expiry Date\": \"05/03/2025\", \"Price\": 200, \"Quantity\": 50, \"Company\": \"Denver\"}, \"16020\": {\"name\": \"Perfume\", \"Expiry Date\": \"15/05/2025\", \"Price\": 210, \"Quantity\": 10, \"Company\": \"Set Wet\"}}'"
      ]
     },
     "execution_count": 12,
     "metadata": {},
     "output_type": "execute_result"
    }
   ],
   "source": [
    "txt"
   ]
  },
  {
   "cell_type": "markdown",
   "metadata": {},
   "source": [
    "# Adding New Item into Inventory"
   ]
  },
  {
   "cell_type": "code",
   "execution_count": 18,
   "metadata": {},
   "outputs": [
    {
     "name": "stdout",
     "output_type": "stream",
     "text": [
      "Enter the Product Id 16021\n",
      "Enter the Name of the Product Butter\n",
      "Enter the price of the product 45\n",
      "Enter the name of the Company Amul\n",
      "Enter the Expiry Date of the Product 07/09/2021\n",
      "Enter the Quantity 10\n"
     ]
    }
   ],
   "source": [
    "prod_id=input('Enter the Product Id ')\n",
    "name=input('Enter the Name of the Product ')\n",
    "price=int(input('Enter the price of the product '))\n",
    "com=input('Enter the name of the Company ')\n",
    "Exp=input('Enter the Expiry Date of the Product ')\n",
    "quan=int(input('Enter the Quantity '))\n",
    "\n",
    "records[prod_id]={'name':name,'Expiry Date':Exp,'Price':price,'Quantity':quan,'Company':com}\n",
    "\n",
    "js=json.dumps(records)\n",
    "\n",
    "fd=open(\"record.json\",'w')\n",
    "fd.write(js)\n",
    "fd.close()"
   ]
  },
  {
   "cell_type": "code",
   "execution_count": 19,
   "metadata": {},
   "outputs": [
    {
     "data": {
      "text/plain": [
       "{16001: {'name': 'Milk',\n",
       "  'Expiry Date': '20/09/2021',\n",
       "  'Price': 25,\n",
       "  'Quantity': 20,\n",
       "  'Company': 'Sudha Milk'},\n",
       " 16002: {'name': 'Bread',\n",
       "  'Expiry Date': '22/09/2021',\n",
       "  'Price': 20,\n",
       "  'Quantity': 10,\n",
       "  'Company': 'Moreish'},\n",
       " 16003: {'name': 'Wheat',\n",
       "  'Expiry Date': '20/09/2022',\n",
       "  'Price': 325,\n",
       "  'Quantity': 20,\n",
       "  'Company': 'Aashirvaad'},\n",
       " 16004: {'name': 'Rice',\n",
       "  'Expiry Date': '30/09/2022',\n",
       "  'Price': 600,\n",
       "  'Quantity': 20,\n",
       "  'Company': 'India Gate'},\n",
       " 16005: {'name': 'Shampoo',\n",
       "  'Expiry Date': '20/09/2022',\n",
       "  'Price': 125,\n",
       "  'Quantity': 10,\n",
       "  'Company': 'Pantene'},\n",
       " 16006: {'name': 'Toothpaste',\n",
       "  'Expiry Date': '20/10/2022',\n",
       "  'Price': 30,\n",
       "  'Quantity': 30,\n",
       "  'Company': 'Colgate'},\n",
       " 16007: {'name': 'Face Cream',\n",
       "  'Expiry Date': '20/04/2025',\n",
       "  'Price': 25,\n",
       "  'Quantity': 60,\n",
       "  'Company': 'Nivea'},\n",
       " 16008: {'name': 'Hair Oil',\n",
       "  'Expiry Date': '20/09/2024',\n",
       "  'Price': 25,\n",
       "  'Quantity': 80,\n",
       "  'Company': 'Bajaj Almond'},\n",
       " 16009: {'name': 'Face Wash',\n",
       "  'Expiry Date': '10/09/2021',\n",
       "  'Price': 55,\n",
       "  'Quantity': 40,\n",
       "  'Company': 'Garnier'},\n",
       " 16010: {'name': 'Head Balm',\n",
       "  'Expiry Date': '20/01/2022',\n",
       "  'Price': 30,\n",
       "  'Quantity': 50,\n",
       "  'Company': 'Zandu Balm'},\n",
       " 16011: {'name': 'Mouth Wash',\n",
       "  'Expiry Date': '12/11/2021',\n",
       "  'Price': 125,\n",
       "  'Quantity': 20,\n",
       "  'Company': 'Listerine'},\n",
       " 16012: {'name': 'Biscuits',\n",
       "  'Expiry Date': '12/06/2022',\n",
       "  'Price': 25,\n",
       "  'Quantity': 20,\n",
       "  'Company': 'Marie Gold'},\n",
       " 16013: {'name': 'Tea',\n",
       "  'Expiry Date': '20/04/2021',\n",
       "  'Price': 35,\n",
       "  'Quantity': 40,\n",
       "  'Company': 'TATA Tea'},\n",
       " 16014: {'name': 'Conditioner',\n",
       "  'Expiry Date': '10/1/2023',\n",
       "  'Price': 150,\n",
       "  'Quantity': 20,\n",
       "  'Company': 'Garnier'},\n",
       " 16015: {'name': 'Hair Gel',\n",
       "  'Expiry Date': '20/09/2025',\n",
       "  'Price': 50,\n",
       "  'Quantity': 30,\n",
       "  'Company': 'Set Wet'},\n",
       " 16016: {'name': 'Face Powder',\n",
       "  'Expiry Date': '15/09/2023',\n",
       "  'Price': 125,\n",
       "  'Quantity': 25,\n",
       "  'Company': 'Nivea'},\n",
       " 16017: {'name': 'Cotton Bud',\n",
       "  'Expiry Date': '20/05/2026',\n",
       "  'Price': 35,\n",
       "  'Quantity': 20,\n",
       "  'Company': 'Nivea'},\n",
       " 16018: {'name': 'Lip Balm',\n",
       "  'Expiry Date': '15/05/2025',\n",
       "  'Price': 20,\n",
       "  'Quantity': 20,\n",
       "  'Company': 'Beardo'},\n",
       " 16019: {'name': 'Deo',\n",
       "  'Expiry Date': '05/03/2025',\n",
       "  'Price': 200,\n",
       "  'Quantity': 50,\n",
       "  'Company': 'Denver'},\n",
       " 16020: {'name': 'Perfume',\n",
       "  'Expiry Date': '15/05/2025',\n",
       "  'Price': 210,\n",
       "  'Quantity': 10,\n",
       "  'Company': 'Set Wet'},\n",
       " '16021': {'name': 'Butter',\n",
       "  'Expiry Date': '07/09/2021',\n",
       "  'Price': 45,\n",
       "  'Quantity': 10,\n",
       "  'Company': 'Amul'}}"
      ]
     },
     "execution_count": 19,
     "metadata": {},
     "output_type": "execute_result"
    }
   ],
   "source": [
    "records"
   ]
  },
  {
   "cell_type": "code",
   "execution_count": 20,
   "metadata": {},
   "outputs": [
    {
     "name": "stdout",
     "output_type": "stream",
     "text": [
      "Enter the ID Product you want to buy16021\n",
      "Enter the name of the Product you want to buyButter\n",
      "Enter the Quantity of the Product 2\n",
      "Product:  Butter\n",
      "Price:  45\n",
      "Billing Amount:  90\n"
     ]
    }
   ],
   "source": [
    "pur_prod_id=input('Enter the ID Product you want to buy')\n",
    "pur_prod_name=input(\"Enter the name of the Product you want to buy\")\n",
    "pur_prod_quantity=int(input('Enter the Quantity of the Product '))\n",
    "\n",
    "print('Product: ',records[pur_prod_id]['name'])\n",
    "print('Price: ',records[pur_prod_id]['Price'])\n",
    "print('Billing Amount: ',records[pur_prod_id]['Price']*pur_prod_quantity)"
   ]
  },
  {
   "cell_type": "code",
   "execution_count": null,
   "metadata": {},
   "outputs": [],
   "source": []
  }
 ],
 "metadata": {
  "kernelspec": {
   "display_name": "Python 3",
   "language": "python",
   "name": "python3"
  },
  "language_info": {
   "codemirror_mode": {
    "name": "ipython",
    "version": 3
   },
   "file_extension": ".py",
   "mimetype": "text/x-python",
   "name": "python",
   "nbconvert_exporter": "python",
   "pygments_lexer": "ipython3",
   "version": "3.7.6"
  }
 },
 "nbformat": 4,
 "nbformat_minor": 4
}
